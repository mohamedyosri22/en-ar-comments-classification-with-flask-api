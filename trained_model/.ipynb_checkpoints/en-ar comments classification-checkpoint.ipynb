{
 "cells": [
  {
   "cell_type": "code",
   "execution_count": 1,
   "id": "d256e0f4",
   "metadata": {},
   "outputs": [],
   "source": [
    "from langdetect import detect, DetectorFactory\n",
    "import pickle\n",
    "import tensorflow as tf\n",
    "from keras.preprocessing.sequence import pad_sequences\n",
    "from keras.preprocessing.text import Tokenizer\n",
    "import re, string\n",
    "import numpy as np\n",
    "DetectorFactory.seed = 0"
   ]
  },
  {
   "cell_type": "code",
   "execution_count": 2,
   "id": "eaa7c2cf",
   "metadata": {},
   "outputs": [],
   "source": [
    "#pretrained arabic model\n",
    "\n",
    "new_model_ar = tf.keras.models.load_model('ar-comments')\n",
    "\n",
    "with open('le.pickle','rb') as enc:\n",
    "        le = pickle.load(enc)\n",
    "        \n",
    "with open('tokenizer.pickle', 'rb') as handle:\n",
    "        tokenizer = pickle.load(handle)"
   ]
  },
  {
   "cell_type": "code",
   "execution_count": 3,
   "id": "995c1031",
   "metadata": {},
   "outputs": [],
   "source": [
    "#pretrained english model\n",
    "\n",
    "#tokenize function for tfidf\n",
    "re_tok = re.compile(f'([{string.punctuation}“”¨«»®´·º½¾¿¡§£₤‘’])')\n",
    "\n",
    "def tokenize(s): \n",
    "    return re_tok.sub(r' \\1 ', s).split()\n",
    "\n",
    "with open('NB_model.pickle','rb') as model:\n",
    "        new_model_en = pickle.load(model)\n",
    "        \n",
    "with open('vec.pickle', 'rb') as handle:\n",
    "        new_vec = pickle.load(handle)"
   ]
  },
  {
   "cell_type": "code",
   "execution_count": 5,
   "id": "a3b8ef9d",
   "metadata": {},
   "outputs": [],
   "source": [
    "def run_models():\n",
    "    while True:\n",
    "        inp = input()\n",
    "        lang = detect(inp)\n",
    "\n",
    "        if inp == 'quit':\n",
    "            break\n",
    "\n",
    "        if lang == 'ar':\n",
    "\n",
    "            inp = [inp]\n",
    "\n",
    "            inp = tokenizer.texts_to_sequences(inp)\n",
    "\n",
    "            inp = pad_sequences(inp, maxlen=150, dtype='int32', value=0)\n",
    "\n",
    "            sentiment = new_model_ar.predict(inp,batch_size=1,verbose = 2)[0]\n",
    "            result = np.argmax(sentiment)\n",
    "\n",
    "            if result == 2:\n",
    "                print('normal')\n",
    "            else:\n",
    "                print('abusive')\n",
    "\n",
    "        else:\n",
    "\n",
    "            inp = [inp]\n",
    "            inp = new_vec.transform(inp)\n",
    "\n",
    "            pred = new_model_en.predict(inp)\n",
    "\n",
    "            if(pred==1):\n",
    "                print('abusive')\n",
    "            else:\n",
    "                print('normal')\n",
    "\n",
    "\n"
   ]
  },
  {
   "cell_type": "code",
   "execution_count": 1,
   "id": "87329909",
   "metadata": {},
   "outputs": [
    {
     "ename": "NameError",
     "evalue": "name 'run_models' is not defined",
     "output_type": "error",
     "traceback": [
      "\u001b[1;31m---------------------------------------------------------------------------\u001b[0m",
      "\u001b[1;31mNameError\u001b[0m                                 Traceback (most recent call last)",
      "\u001b[1;32m~\\AppData\\Local\\Temp/ipykernel_16864/4244450233.py\u001b[0m in \u001b[0;36m<module>\u001b[1;34m\u001b[0m\n\u001b[1;32m----> 1\u001b[1;33m \u001b[0mrun_models\u001b[0m\u001b[1;33m(\u001b[0m\u001b[1;33m)\u001b[0m\u001b[1;33m\u001b[0m\u001b[1;33m\u001b[0m\u001b[0m\n\u001b[0m",
      "\u001b[1;31mNameError\u001b[0m: name 'run_models' is not defined"
     ]
    }
   ],
   "source": [
    "run_models()"
   ]
  },
  {
   "cell_type": "code",
   "execution_count": null,
   "id": "d41dff74",
   "metadata": {},
   "outputs": [],
   "source": []
  }
 ],
 "metadata": {
  "kernelspec": {
   "display_name": "Python 3 (ipykernel)",
   "language": "python",
   "name": "python3"
  },
  "language_info": {
   "codemirror_mode": {
    "name": "ipython",
    "version": 3
   },
   "file_extension": ".py",
   "mimetype": "text/x-python",
   "name": "python",
   "nbconvert_exporter": "python",
   "pygments_lexer": "ipython3",
   "version": "3.9.7"
  }
 },
 "nbformat": 4,
 "nbformat_minor": 5
}
